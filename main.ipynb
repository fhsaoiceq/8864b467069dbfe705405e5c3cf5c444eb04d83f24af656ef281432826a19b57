{
 "cells": [
  {
   "cell_type": "code",
   "execution_count": 93,
   "metadata": {},
   "outputs": [],
   "source": [
    "# %pip install --quiet pytorch-lightning"
   ]
  },
  {
   "cell_type": "code",
   "execution_count": 94,
   "metadata": {},
   "outputs": [],
   "source": [
    "# %pip install --quiet yfinance"
   ]
  },
  {
   "cell_type": "code",
   "execution_count": 95,
   "metadata": {},
   "outputs": [],
   "source": [
    "# %pip install --quiet tqdm"
   ]
  },
  {
   "cell_type": "code",
   "execution_count": 96,
   "metadata": {},
   "outputs": [],
   "source": [
    "# %pip install --quiet tensorboard"
   ]
  },
  {
   "cell_type": "markdown",
   "metadata": {},
   "source": [
    "Import required libraries"
   ]
  },
  {
   "cell_type": "code",
   "execution_count": 97,
   "metadata": {},
   "outputs": [],
   "source": [
    "import seaborn as sns\n",
    "from pylab import rcParams\n",
    "import matplotlib.pyplot as plt\n",
    "from matplotlib import rc\n",
    "import math\n",
    "import matplotlib\n",
    "\n",
    "import yfinance as yf\n",
    "import pandas as pd\n",
    "import numpy as np\n",
    "from tqdm.notebook import tqdm\n",
    "import pytorch_lightning as pl\n",
    "from pytorch_lightning.callbacks import ModelCheckpoint\n",
    "from pytorch_lightning.loggers import TensorBoardLogger\n",
    "from pytorch_lightning.callbacks.early_stopping import EarlyStopping\n",
    "from sklearn.preprocessing import MinMaxScaler\n",
    "\n",
    "import torch\n",
    "import torch.autograd as autograd\n",
    "from torch import nn\n",
    "import torch.nn.functional as F\n",
    "import torch.optim as optim\n",
    "from torch.utils.data import Dataset,DataLoader"
   ]
  },
  {
   "cell_type": "markdown",
   "metadata": {},
   "source": [
    "Create configs for layout, size and colors"
   ]
  },
  {
   "cell_type": "code",
   "execution_count": 98,
   "metadata": {},
   "outputs": [],
   "source": [
    "%matplotlib inline\n",
    "%config InLineBackend.figure_format='retina'\n",
    "\n",
    "sns.set(style='whitegrid', palette='muted', font_scale = 1.1)\n",
    "\n",
    "BRIGHT_COLORS_PALETTE = ['#01BEFE','#FFDD00','#FF7D00','#FF006D','#ADFF02','#8F00FF']\n",
    "\n",
    "sns.set_palette(sns.color_palette(BRIGHT_COLORS_PALETTE))\n",
    "\n",
    "rcParams['figure.figsize'] = 12, 8\n",
    "\n",
    "tqdm.pandas()"
   ]
  },
  {
   "cell_type": "markdown",
   "metadata": {},
   "source": [
    "Set pytorch lightning seed to 42"
   ]
  },
  {
   "cell_type": "code",
   "execution_count": 99,
   "metadata": {},
   "outputs": [
    {
     "name": "stderr",
     "output_type": "stream",
     "text": [
      "Global seed set to 42\n"
     ]
    },
    {
     "data": {
      "text/plain": [
       "42"
      ]
     },
     "execution_count": 99,
     "metadata": {},
     "output_type": "execute_result"
    }
   ],
   "source": [
    "pl.seed_everything(42)"
   ]
  },
  {
   "cell_type": "markdown",
   "metadata": {},
   "source": [
    "Read yfinance symbol/s and put them into a dataframe"
   ]
  },
  {
   "cell_type": "code",
   "execution_count": 100,
   "metadata": {},
   "outputs": [
    {
     "data": {
      "text/html": [
       "<div>\n",
       "<style scoped>\n",
       "    .dataframe tbody tr th:only-of-type {\n",
       "        vertical-align: middle;\n",
       "    }\n",
       "\n",
       "    .dataframe tbody tr th {\n",
       "        vertical-align: top;\n",
       "    }\n",
       "\n",
       "    .dataframe thead th {\n",
       "        text-align: right;\n",
       "    }\n",
       "</style>\n",
       "<table border=\"1\" class=\"dataframe\">\n",
       "  <thead>\n",
       "    <tr style=\"text-align: right;\">\n",
       "      <th></th>\n",
       "      <th>Open</th>\n",
       "      <th>High</th>\n",
       "      <th>Low</th>\n",
       "      <th>Close</th>\n",
       "      <th>Volume</th>\n",
       "      <th>Dividends</th>\n",
       "      <th>Stock Splits</th>\n",
       "    </tr>\n",
       "    <tr>\n",
       "      <th>Date</th>\n",
       "      <th></th>\n",
       "      <th></th>\n",
       "      <th></th>\n",
       "      <th></th>\n",
       "      <th></th>\n",
       "      <th></th>\n",
       "      <th></th>\n",
       "    </tr>\n",
       "  </thead>\n",
       "  <tbody>\n",
       "    <tr>\n",
       "      <th>2018-08-28 00:00:00-04:00</th>\n",
       "      <td>104.160636</td>\n",
       "      <td>104.691195</td>\n",
       "      <td>104.018520</td>\n",
       "      <td>104.463814</td>\n",
       "      <td>19151500</td>\n",
       "      <td>0.0</td>\n",
       "      <td>0.0</td>\n",
       "    </tr>\n",
       "    <tr>\n",
       "      <th>2018-08-29 00:00:00-04:00</th>\n",
       "      <td>104.643819</td>\n",
       "      <td>106.140763</td>\n",
       "      <td>104.473281</td>\n",
       "      <td>106.131287</td>\n",
       "      <td>20818000</td>\n",
       "      <td>0.0</td>\n",
       "      <td>0.0</td>\n",
       "    </tr>\n",
       "    <tr>\n",
       "      <th>2018-08-30 00:00:00-04:00</th>\n",
       "      <td>105.799677</td>\n",
       "      <td>106.690265</td>\n",
       "      <td>105.581772</td>\n",
       "      <td>106.064957</td>\n",
       "      <td>22798700</td>\n",
       "      <td>0.0</td>\n",
       "      <td>0.0</td>\n",
       "    </tr>\n",
       "    <tr>\n",
       "      <th>2018-08-31 00:00:00-04:00</th>\n",
       "      <td>105.818609</td>\n",
       "      <td>106.851306</td>\n",
       "      <td>105.657541</td>\n",
       "      <td>106.424965</td>\n",
       "      <td>23222700</td>\n",
       "      <td>0.0</td>\n",
       "      <td>0.0</td>\n",
       "    </tr>\n",
       "    <tr>\n",
       "      <th>2018-09-04 00:00:00-04:00</th>\n",
       "      <td>105.022779</td>\n",
       "      <td>106.074428</td>\n",
       "      <td>104.425899</td>\n",
       "      <td>105.837570</td>\n",
       "      <td>22634600</td>\n",
       "      <td>0.0</td>\n",
       "      <td>0.0</td>\n",
       "    </tr>\n",
       "  </tbody>\n",
       "</table>\n",
       "</div>"
      ],
      "text/plain": [
       "                                 Open        High         Low       Close  \\\n",
       "Date                                                                        \n",
       "2018-08-28 00:00:00-04:00  104.160636  104.691195  104.018520  104.463814   \n",
       "2018-08-29 00:00:00-04:00  104.643819  106.140763  104.473281  106.131287   \n",
       "2018-08-30 00:00:00-04:00  105.799677  106.690265  105.581772  106.064957   \n",
       "2018-08-31 00:00:00-04:00  105.818609  106.851306  105.657541  106.424965   \n",
       "2018-09-04 00:00:00-04:00  105.022779  106.074428  104.425899  105.837570   \n",
       "\n",
       "                             Volume  Dividends  Stock Splits  \n",
       "Date                                                          \n",
       "2018-08-28 00:00:00-04:00  19151500        0.0           0.0  \n",
       "2018-08-29 00:00:00-04:00  20818000        0.0           0.0  \n",
       "2018-08-30 00:00:00-04:00  22798700        0.0           0.0  \n",
       "2018-08-31 00:00:00-04:00  23222700        0.0           0.0  \n",
       "2018-09-04 00:00:00-04:00  22634600        0.0           0.0  "
      ]
     },
     "execution_count": 100,
     "metadata": {},
     "output_type": "execute_result"
    }
   ],
   "source": [
    "symbol = \"MSFT\"\n",
    "msft = yf.Ticker(symbol)\n",
    "\n",
    "# get all stock info\n",
    "msft.info\n",
    "\n",
    "# get historical market data\n",
    "hist = msft.history(period=\"5y\")\n",
    "\n",
    "df = pd.DataFrame(hist)\n",
    "df.index = pd.to_datetime(df.index)\n",
    "df = df.sort_values(by='Date')\n",
    "\n",
    "df.head()\n"
   ]
  },
  {
   "cell_type": "code",
   "execution_count": 101,
   "metadata": {},
   "outputs": [
    {
     "data": {
      "text/plain": [
       "DatetimeIndex(['2018-08-28 00:00:00-04:00', '2018-08-29 00:00:00-04:00',\n",
       "               '2018-08-30 00:00:00-04:00', '2018-08-31 00:00:00-04:00',\n",
       "               '2018-09-04 00:00:00-04:00', '2018-09-05 00:00:00-04:00',\n",
       "               '2018-09-06 00:00:00-04:00', '2018-09-07 00:00:00-04:00',\n",
       "               '2018-09-10 00:00:00-04:00', '2018-09-11 00:00:00-04:00',\n",
       "               ...\n",
       "               '2023-08-15 00:00:00-04:00', '2023-08-16 00:00:00-04:00',\n",
       "               '2023-08-17 00:00:00-04:00', '2023-08-18 00:00:00-04:00',\n",
       "               '2023-08-21 00:00:00-04:00', '2023-08-22 00:00:00-04:00',\n",
       "               '2023-08-23 00:00:00-04:00', '2023-08-24 00:00:00-04:00',\n",
       "               '2023-08-25 00:00:00-04:00', '2023-08-28 00:00:00-04:00'],\n",
       "              dtype='datetime64[ns, America/New_York]', name='Date', length=1258, freq=None)"
      ]
     },
     "execution_count": 101,
     "metadata": {},
     "output_type": "execute_result"
    }
   ],
   "source": [
    "df.index"
   ]
  },
  {
   "cell_type": "markdown",
   "metadata": {},
   "source": [
    "Check the shape of the dataframe"
   ]
  },
  {
   "cell_type": "code",
   "execution_count": 102,
   "metadata": {},
   "outputs": [
    {
     "data": {
      "text/plain": [
       "(1258, 7)"
      ]
     },
     "execution_count": 102,
     "metadata": {},
     "output_type": "execute_result"
    }
   ],
   "source": [
    "df.shape"
   ]
  },
  {
   "cell_type": "markdown",
   "metadata": {},
   "source": [
    "Preprocess the price data"
   ]
  },
  {
   "cell_type": "code",
   "execution_count": 103,
   "metadata": {},
   "outputs": [
    {
     "data": {
      "text/html": [
       "<div>\n",
       "<style scoped>\n",
       "    .dataframe tbody tr th:only-of-type {\n",
       "        vertical-align: middle;\n",
       "    }\n",
       "\n",
       "    .dataframe tbody tr th {\n",
       "        vertical-align: top;\n",
       "    }\n",
       "\n",
       "    .dataframe thead th {\n",
       "        text-align: right;\n",
       "    }\n",
       "</style>\n",
       "<table border=\"1\" class=\"dataframe\">\n",
       "  <thead>\n",
       "    <tr style=\"text-align: right;\">\n",
       "      <th></th>\n",
       "      <th>Open</th>\n",
       "      <th>High</th>\n",
       "      <th>Low</th>\n",
       "      <th>Close</th>\n",
       "      <th>Volume</th>\n",
       "      <th>Dividends</th>\n",
       "      <th>Stock Splits</th>\n",
       "      <th>Prev_close</th>\n",
       "    </tr>\n",
       "    <tr>\n",
       "      <th>Date</th>\n",
       "      <th></th>\n",
       "      <th></th>\n",
       "      <th></th>\n",
       "      <th></th>\n",
       "      <th></th>\n",
       "      <th></th>\n",
       "      <th></th>\n",
       "      <th></th>\n",
       "    </tr>\n",
       "  </thead>\n",
       "  <tbody>\n",
       "    <tr>\n",
       "      <th>2018-08-28 00:00:00-04:00</th>\n",
       "      <td>104.160636</td>\n",
       "      <td>104.691195</td>\n",
       "      <td>104.018520</td>\n",
       "      <td>104.463814</td>\n",
       "      <td>19151500</td>\n",
       "      <td>0.0</td>\n",
       "      <td>0.0</td>\n",
       "      <td>NaN</td>\n",
       "    </tr>\n",
       "    <tr>\n",
       "      <th>2018-08-29 00:00:00-04:00</th>\n",
       "      <td>104.643819</td>\n",
       "      <td>106.140763</td>\n",
       "      <td>104.473281</td>\n",
       "      <td>106.131287</td>\n",
       "      <td>20818000</td>\n",
       "      <td>0.0</td>\n",
       "      <td>0.0</td>\n",
       "      <td>104.463814</td>\n",
       "    </tr>\n",
       "    <tr>\n",
       "      <th>2018-08-30 00:00:00-04:00</th>\n",
       "      <td>105.799677</td>\n",
       "      <td>106.690265</td>\n",
       "      <td>105.581772</td>\n",
       "      <td>106.064957</td>\n",
       "      <td>22798700</td>\n",
       "      <td>0.0</td>\n",
       "      <td>0.0</td>\n",
       "      <td>106.131287</td>\n",
       "    </tr>\n",
       "    <tr>\n",
       "      <th>2018-08-31 00:00:00-04:00</th>\n",
       "      <td>105.818609</td>\n",
       "      <td>106.851306</td>\n",
       "      <td>105.657541</td>\n",
       "      <td>106.424965</td>\n",
       "      <td>23222700</td>\n",
       "      <td>0.0</td>\n",
       "      <td>0.0</td>\n",
       "      <td>106.064957</td>\n",
       "    </tr>\n",
       "    <tr>\n",
       "      <th>2018-09-04 00:00:00-04:00</th>\n",
       "      <td>105.022779</td>\n",
       "      <td>106.074428</td>\n",
       "      <td>104.425899</td>\n",
       "      <td>105.837570</td>\n",
       "      <td>22634600</td>\n",
       "      <td>0.0</td>\n",
       "      <td>0.0</td>\n",
       "      <td>106.424965</td>\n",
       "    </tr>\n",
       "  </tbody>\n",
       "</table>\n",
       "</div>"
      ],
      "text/plain": [
       "                                 Open        High         Low       Close  \\\n",
       "Date                                                                        \n",
       "2018-08-28 00:00:00-04:00  104.160636  104.691195  104.018520  104.463814   \n",
       "2018-08-29 00:00:00-04:00  104.643819  106.140763  104.473281  106.131287   \n",
       "2018-08-30 00:00:00-04:00  105.799677  106.690265  105.581772  106.064957   \n",
       "2018-08-31 00:00:00-04:00  105.818609  106.851306  105.657541  106.424965   \n",
       "2018-09-04 00:00:00-04:00  105.022779  106.074428  104.425899  105.837570   \n",
       "\n",
       "                             Volume  Dividends  Stock Splits  Prev_close  \n",
       "Date                                                                      \n",
       "2018-08-28 00:00:00-04:00  19151500        0.0           0.0         NaN  \n",
       "2018-08-29 00:00:00-04:00  20818000        0.0           0.0  104.463814  \n",
       "2018-08-30 00:00:00-04:00  22798700        0.0           0.0  106.131287  \n",
       "2018-08-31 00:00:00-04:00  23222700        0.0           0.0  106.064957  \n",
       "2018-09-04 00:00:00-04:00  22634600        0.0           0.0  106.424965  "
      ]
     },
     "execution_count": 103,
     "metadata": {},
     "output_type": "execute_result"
    }
   ],
   "source": [
    "df['Prev_close'] = df.shift(1)['Close']\n",
    "df.head()"
   ]
  },
  {
   "cell_type": "code",
   "execution_count": 104,
   "metadata": {},
   "outputs": [
    {
     "data": {
      "application/vnd.jupyter.widget-view+json": {
       "model_id": "00ada838341b4ab18f48a0a7eedf53f2",
       "version_major": 2,
       "version_minor": 0
      },
      "text/plain": [
       "  0%|          | 0/1258 [00:00<?, ?it/s]"
      ]
     },
     "metadata": {},
     "output_type": "display_data"
    },
    {
     "data": {
      "text/html": [
       "<div>\n",
       "<style scoped>\n",
       "    .dataframe tbody tr th:only-of-type {\n",
       "        vertical-align: middle;\n",
       "    }\n",
       "\n",
       "    .dataframe tbody tr th {\n",
       "        vertical-align: top;\n",
       "    }\n",
       "\n",
       "    .dataframe thead th {\n",
       "        text-align: right;\n",
       "    }\n",
       "</style>\n",
       "<table border=\"1\" class=\"dataframe\">\n",
       "  <thead>\n",
       "    <tr style=\"text-align: right;\">\n",
       "      <th></th>\n",
       "      <th>Open</th>\n",
       "      <th>High</th>\n",
       "      <th>Low</th>\n",
       "      <th>Close</th>\n",
       "      <th>Volume</th>\n",
       "      <th>Dividends</th>\n",
       "      <th>Stock Splits</th>\n",
       "      <th>Prev_close</th>\n",
       "      <th>Close_change</th>\n",
       "    </tr>\n",
       "    <tr>\n",
       "      <th>Date</th>\n",
       "      <th></th>\n",
       "      <th></th>\n",
       "      <th></th>\n",
       "      <th></th>\n",
       "      <th></th>\n",
       "      <th></th>\n",
       "      <th></th>\n",
       "      <th></th>\n",
       "      <th></th>\n",
       "    </tr>\n",
       "  </thead>\n",
       "  <tbody>\n",
       "    <tr>\n",
       "      <th>2018-08-28 00:00:00-04:00</th>\n",
       "      <td>104.160636</td>\n",
       "      <td>104.691195</td>\n",
       "      <td>104.018520</td>\n",
       "      <td>104.463814</td>\n",
       "      <td>19151500</td>\n",
       "      <td>0.0</td>\n",
       "      <td>0.0</td>\n",
       "      <td>NaN</td>\n",
       "      <td>0.000000</td>\n",
       "    </tr>\n",
       "    <tr>\n",
       "      <th>2018-08-29 00:00:00-04:00</th>\n",
       "      <td>104.643819</td>\n",
       "      <td>106.140763</td>\n",
       "      <td>104.473281</td>\n",
       "      <td>106.131287</td>\n",
       "      <td>20818000</td>\n",
       "      <td>0.0</td>\n",
       "      <td>0.0</td>\n",
       "      <td>104.463814</td>\n",
       "      <td>1.667473</td>\n",
       "    </tr>\n",
       "    <tr>\n",
       "      <th>2018-08-30 00:00:00-04:00</th>\n",
       "      <td>105.799677</td>\n",
       "      <td>106.690265</td>\n",
       "      <td>105.581772</td>\n",
       "      <td>106.064957</td>\n",
       "      <td>22798700</td>\n",
       "      <td>0.0</td>\n",
       "      <td>0.0</td>\n",
       "      <td>106.131287</td>\n",
       "      <td>-0.066330</td>\n",
       "    </tr>\n",
       "    <tr>\n",
       "      <th>2018-08-31 00:00:00-04:00</th>\n",
       "      <td>105.818609</td>\n",
       "      <td>106.851306</td>\n",
       "      <td>105.657541</td>\n",
       "      <td>106.424965</td>\n",
       "      <td>23222700</td>\n",
       "      <td>0.0</td>\n",
       "      <td>0.0</td>\n",
       "      <td>106.064957</td>\n",
       "      <td>0.360008</td>\n",
       "    </tr>\n",
       "    <tr>\n",
       "      <th>2018-09-04 00:00:00-04:00</th>\n",
       "      <td>105.022779</td>\n",
       "      <td>106.074428</td>\n",
       "      <td>104.425899</td>\n",
       "      <td>105.837570</td>\n",
       "      <td>22634600</td>\n",
       "      <td>0.0</td>\n",
       "      <td>0.0</td>\n",
       "      <td>106.424965</td>\n",
       "      <td>-0.587395</td>\n",
       "    </tr>\n",
       "  </tbody>\n",
       "</table>\n",
       "</div>"
      ],
      "text/plain": [
       "                                 Open        High         Low       Close  \\\n",
       "Date                                                                        \n",
       "2018-08-28 00:00:00-04:00  104.160636  104.691195  104.018520  104.463814   \n",
       "2018-08-29 00:00:00-04:00  104.643819  106.140763  104.473281  106.131287   \n",
       "2018-08-30 00:00:00-04:00  105.799677  106.690265  105.581772  106.064957   \n",
       "2018-08-31 00:00:00-04:00  105.818609  106.851306  105.657541  106.424965   \n",
       "2018-09-04 00:00:00-04:00  105.022779  106.074428  104.425899  105.837570   \n",
       "\n",
       "                             Volume  Dividends  Stock Splits  Prev_close  \\\n",
       "Date                                                                       \n",
       "2018-08-28 00:00:00-04:00  19151500        0.0           0.0         NaN   \n",
       "2018-08-29 00:00:00-04:00  20818000        0.0           0.0  104.463814   \n",
       "2018-08-30 00:00:00-04:00  22798700        0.0           0.0  106.131287   \n",
       "2018-08-31 00:00:00-04:00  23222700        0.0           0.0  106.064957   \n",
       "2018-09-04 00:00:00-04:00  22634600        0.0           0.0  106.424965   \n",
       "\n",
       "                           Close_change  \n",
       "Date                                     \n",
       "2018-08-28 00:00:00-04:00      0.000000  \n",
       "2018-08-29 00:00:00-04:00      1.667473  \n",
       "2018-08-30 00:00:00-04:00     -0.066330  \n",
       "2018-08-31 00:00:00-04:00      0.360008  \n",
       "2018-09-04 00:00:00-04:00     -0.587395  "
      ]
     },
     "execution_count": 104,
     "metadata": {},
     "output_type": "execute_result"
    }
   ],
   "source": [
    "df['Close_change'] = df.progress_apply(\n",
    "        lambda row:0 if np.isnan(row.Prev_close) else row.Close - row.Prev_close, \n",
    "        axis=1\n",
    "    )\n",
    "df.head()"
   ]
  },
  {
   "cell_type": "code",
   "execution_count": 105,
   "metadata": {},
   "outputs": [],
   "source": [
    "rows = []"
   ]
  },
  {
   "cell_type": "code",
   "execution_count": 106,
   "metadata": {},
   "outputs": [
    {
     "data": {
      "application/vnd.jupyter.widget-view+json": {
       "model_id": "ce2127752b8d4fa0b635864f96d01bbe",
       "version_major": 2,
       "version_minor": 0
      },
      "text/plain": [
       "  0%|          | 0/1258 [00:00<?, ?it/s]"
      ]
     },
     "metadata": {},
     "output_type": "display_data"
    }
   ],
   "source": [
    "for _, row in tqdm(df.iterrows(), total=df.shape[0]):\n",
    "    row_data = dict(\n",
    "        day_of_week=row.name.dayofweek,\n",
    "        day_of_month=row.name.week,\n",
    "        week_of_year=row.name.week,\n",
    "        month=row.name.month,\n",
    "        open=row.Open,\n",
    "        high=row.High,\n",
    "        low=row.Low,\n",
    "        close_change=row.Close_change,\n",
    "        close=row.Close\n",
    "    )\n",
    "    \n",
    "    rows.append(row_data)\n",
    "    \n",
    "features_df = pd.DataFrame(rows)"
   ]
  },
  {
   "cell_type": "code",
   "execution_count": 107,
   "metadata": {},
   "outputs": [
    {
     "data": {
      "text/plain": [
       "(1258, 9)"
      ]
     },
     "execution_count": 107,
     "metadata": {},
     "output_type": "execute_result"
    }
   ],
   "source": [
    "features_df.shape"
   ]
  },
  {
   "cell_type": "code",
   "execution_count": 108,
   "metadata": {},
   "outputs": [
    {
     "data": {
      "text/html": [
       "<div>\n",
       "<style scoped>\n",
       "    .dataframe tbody tr th:only-of-type {\n",
       "        vertical-align: middle;\n",
       "    }\n",
       "\n",
       "    .dataframe tbody tr th {\n",
       "        vertical-align: top;\n",
       "    }\n",
       "\n",
       "    .dataframe thead th {\n",
       "        text-align: right;\n",
       "    }\n",
       "</style>\n",
       "<table border=\"1\" class=\"dataframe\">\n",
       "  <thead>\n",
       "    <tr style=\"text-align: right;\">\n",
       "      <th></th>\n",
       "      <th>day_of_week</th>\n",
       "      <th>day_of_month</th>\n",
       "      <th>week_of_year</th>\n",
       "      <th>month</th>\n",
       "      <th>open</th>\n",
       "      <th>high</th>\n",
       "      <th>low</th>\n",
       "      <th>close_change</th>\n",
       "      <th>close</th>\n",
       "    </tr>\n",
       "  </thead>\n",
       "  <tbody>\n",
       "    <tr>\n",
       "      <th>0</th>\n",
       "      <td>1</td>\n",
       "      <td>35</td>\n",
       "      <td>35</td>\n",
       "      <td>8</td>\n",
       "      <td>104.160636</td>\n",
       "      <td>104.691195</td>\n",
       "      <td>104.018520</td>\n",
       "      <td>0.000000</td>\n",
       "      <td>104.463814</td>\n",
       "    </tr>\n",
       "    <tr>\n",
       "      <th>1</th>\n",
       "      <td>2</td>\n",
       "      <td>35</td>\n",
       "      <td>35</td>\n",
       "      <td>8</td>\n",
       "      <td>104.643819</td>\n",
       "      <td>106.140763</td>\n",
       "      <td>104.473281</td>\n",
       "      <td>1.667473</td>\n",
       "      <td>106.131287</td>\n",
       "    </tr>\n",
       "    <tr>\n",
       "      <th>2</th>\n",
       "      <td>3</td>\n",
       "      <td>35</td>\n",
       "      <td>35</td>\n",
       "      <td>8</td>\n",
       "      <td>105.799677</td>\n",
       "      <td>106.690265</td>\n",
       "      <td>105.581772</td>\n",
       "      <td>-0.066330</td>\n",
       "      <td>106.064957</td>\n",
       "    </tr>\n",
       "    <tr>\n",
       "      <th>3</th>\n",
       "      <td>4</td>\n",
       "      <td>35</td>\n",
       "      <td>35</td>\n",
       "      <td>8</td>\n",
       "      <td>105.818609</td>\n",
       "      <td>106.851306</td>\n",
       "      <td>105.657541</td>\n",
       "      <td>0.360008</td>\n",
       "      <td>106.424965</td>\n",
       "    </tr>\n",
       "    <tr>\n",
       "      <th>4</th>\n",
       "      <td>1</td>\n",
       "      <td>36</td>\n",
       "      <td>36</td>\n",
       "      <td>9</td>\n",
       "      <td>105.022779</td>\n",
       "      <td>106.074428</td>\n",
       "      <td>104.425899</td>\n",
       "      <td>-0.587395</td>\n",
       "      <td>105.837570</td>\n",
       "    </tr>\n",
       "  </tbody>\n",
       "</table>\n",
       "</div>"
      ],
      "text/plain": [
       "   day_of_week  day_of_month  week_of_year  month        open        high  \\\n",
       "0            1            35            35      8  104.160636  104.691195   \n",
       "1            2            35            35      8  104.643819  106.140763   \n",
       "2            3            35            35      8  105.799677  106.690265   \n",
       "3            4            35            35      8  105.818609  106.851306   \n",
       "4            1            36            36      9  105.022779  106.074428   \n",
       "\n",
       "          low  close_change       close  \n",
       "0  104.018520      0.000000  104.463814  \n",
       "1  104.473281      1.667473  106.131287  \n",
       "2  105.581772     -0.066330  106.064957  \n",
       "3  105.657541      0.360008  106.424965  \n",
       "4  104.425899     -0.587395  105.837570  "
      ]
     },
     "execution_count": 108,
     "metadata": {},
     "output_type": "execute_result"
    }
   ],
   "source": [
    "features_df.head()"
   ]
  },
  {
   "cell_type": "markdown",
   "metadata": {},
   "source": [
    "Set the train size"
   ]
  },
  {
   "cell_type": "code",
   "execution_count": 109,
   "metadata": {},
   "outputs": [
    {
     "data": {
      "text/plain": [
       "1006"
      ]
     },
     "execution_count": 109,
     "metadata": {},
     "output_type": "execute_result"
    }
   ],
   "source": [
    "train_size = int(len(features_df) * 0.8)\n",
    "train_size"
   ]
  },
  {
   "cell_type": "code",
   "execution_count": 110,
   "metadata": {},
   "outputs": [
    {
     "data": {
      "text/html": [
       "<div>\n",
       "<style scoped>\n",
       "    .dataframe tbody tr th:only-of-type {\n",
       "        vertical-align: middle;\n",
       "    }\n",
       "\n",
       "    .dataframe tbody tr th {\n",
       "        vertical-align: top;\n",
       "    }\n",
       "\n",
       "    .dataframe thead th {\n",
       "        text-align: right;\n",
       "    }\n",
       "</style>\n",
       "<table border=\"1\" class=\"dataframe\">\n",
       "  <thead>\n",
       "    <tr style=\"text-align: right;\">\n",
       "      <th></th>\n",
       "      <th>day_of_week</th>\n",
       "      <th>day_of_month</th>\n",
       "      <th>week_of_year</th>\n",
       "      <th>month</th>\n",
       "      <th>open</th>\n",
       "      <th>high</th>\n",
       "      <th>low</th>\n",
       "      <th>close_change</th>\n",
       "      <th>close</th>\n",
       "    </tr>\n",
       "  </thead>\n",
       "  <tbody>\n",
       "    <tr>\n",
       "      <th>1007</th>\n",
       "      <td>0</td>\n",
       "      <td>35</td>\n",
       "      <td>35</td>\n",
       "      <td>8</td>\n",
       "      <td>263.306293</td>\n",
       "      <td>264.841450</td>\n",
       "      <td>261.325430</td>\n",
       "      <td>-2.832581</td>\n",
       "      <td>262.692230</td>\n",
       "    </tr>\n",
       "    <tr>\n",
       "      <th>1008</th>\n",
       "      <td>1</td>\n",
       "      <td>35</td>\n",
       "      <td>35</td>\n",
       "      <td>8</td>\n",
       "      <td>264.118405</td>\n",
       "      <td>264.494744</td>\n",
       "      <td>258.165902</td>\n",
       "      <td>-2.238434</td>\n",
       "      <td>260.453796</td>\n",
       "    </tr>\n",
       "    <tr>\n",
       "      <th>1009</th>\n",
       "      <td>2</td>\n",
       "      <td>35</td>\n",
       "      <td>35</td>\n",
       "      <td>8</td>\n",
       "      <td>262.850676</td>\n",
       "      <td>264.554189</td>\n",
       "      <td>258.829495</td>\n",
       "      <td>-1.485626</td>\n",
       "      <td>258.968170</td>\n",
       "    </tr>\n",
       "    <tr>\n",
       "      <th>1010</th>\n",
       "      <td>3</td>\n",
       "      <td>35</td>\n",
       "      <td>35</td>\n",
       "      <td>9</td>\n",
       "      <td>256.392997</td>\n",
       "      <td>258.393688</td>\n",
       "      <td>252.966112</td>\n",
       "      <td>-1.059814</td>\n",
       "      <td>257.908356</td>\n",
       "    </tr>\n",
       "    <tr>\n",
       "      <th>1011</th>\n",
       "      <td>4</td>\n",
       "      <td>35</td>\n",
       "      <td>35</td>\n",
       "      <td>9</td>\n",
       "      <td>259.195973</td>\n",
       "      <td>262.206864</td>\n",
       "      <td>252.035142</td>\n",
       "      <td>-4.298431</td>\n",
       "      <td>253.609924</td>\n",
       "    </tr>\n",
       "    <tr>\n",
       "      <th>...</th>\n",
       "      <td>...</td>\n",
       "      <td>...</td>\n",
       "      <td>...</td>\n",
       "      <td>...</td>\n",
       "      <td>...</td>\n",
       "      <td>...</td>\n",
       "      <td>...</td>\n",
       "      <td>...</td>\n",
       "      <td>...</td>\n",
       "    </tr>\n",
       "    <tr>\n",
       "      <th>1253</th>\n",
       "      <td>1</td>\n",
       "      <td>34</td>\n",
       "      <td>34</td>\n",
       "      <td>8</td>\n",
       "      <td>325.500000</td>\n",
       "      <td>326.079987</td>\n",
       "      <td>321.459991</td>\n",
       "      <td>0.579987</td>\n",
       "      <td>322.459991</td>\n",
       "    </tr>\n",
       "    <tr>\n",
       "      <th>1254</th>\n",
       "      <td>2</td>\n",
       "      <td>34</td>\n",
       "      <td>34</td>\n",
       "      <td>8</td>\n",
       "      <td>323.820007</td>\n",
       "      <td>329.200012</td>\n",
       "      <td>323.459991</td>\n",
       "      <td>4.540009</td>\n",
       "      <td>327.000000</td>\n",
       "    </tr>\n",
       "    <tr>\n",
       "      <th>1255</th>\n",
       "      <td>3</td>\n",
       "      <td>34</td>\n",
       "      <td>34</td>\n",
       "      <td>8</td>\n",
       "      <td>332.850006</td>\n",
       "      <td>332.980011</td>\n",
       "      <td>319.959991</td>\n",
       "      <td>-7.029999</td>\n",
       "      <td>319.970001</td>\n",
       "    </tr>\n",
       "    <tr>\n",
       "      <th>1256</th>\n",
       "      <td>4</td>\n",
       "      <td>34</td>\n",
       "      <td>34</td>\n",
       "      <td>8</td>\n",
       "      <td>321.470001</td>\n",
       "      <td>325.359985</td>\n",
       "      <td>318.799988</td>\n",
       "      <td>3.010010</td>\n",
       "      <td>322.980011</td>\n",
       "    </tr>\n",
       "    <tr>\n",
       "      <th>1257</th>\n",
       "      <td>0</td>\n",
       "      <td>35</td>\n",
       "      <td>35</td>\n",
       "      <td>8</td>\n",
       "      <td>325.660004</td>\n",
       "      <td>326.149994</td>\n",
       "      <td>322.364197</td>\n",
       "      <td>1.481384</td>\n",
       "      <td>324.461395</td>\n",
       "    </tr>\n",
       "  </tbody>\n",
       "</table>\n",
       "<p>251 rows × 9 columns</p>\n",
       "</div>"
      ],
      "text/plain": [
       "      day_of_week  day_of_month  week_of_year  month        open        high  \\\n",
       "1007            0            35            35      8  263.306293  264.841450   \n",
       "1008            1            35            35      8  264.118405  264.494744   \n",
       "1009            2            35            35      8  262.850676  264.554189   \n",
       "1010            3            35            35      9  256.392997  258.393688   \n",
       "1011            4            35            35      9  259.195973  262.206864   \n",
       "...           ...           ...           ...    ...         ...         ...   \n",
       "1253            1            34            34      8  325.500000  326.079987   \n",
       "1254            2            34            34      8  323.820007  329.200012   \n",
       "1255            3            34            34      8  332.850006  332.980011   \n",
       "1256            4            34            34      8  321.470001  325.359985   \n",
       "1257            0            35            35      8  325.660004  326.149994   \n",
       "\n",
       "             low  close_change       close  \n",
       "1007  261.325430     -2.832581  262.692230  \n",
       "1008  258.165902     -2.238434  260.453796  \n",
       "1009  258.829495     -1.485626  258.968170  \n",
       "1010  252.966112     -1.059814  257.908356  \n",
       "1011  252.035142     -4.298431  253.609924  \n",
       "...          ...           ...         ...  \n",
       "1253  321.459991      0.579987  322.459991  \n",
       "1254  323.459991      4.540009  327.000000  \n",
       "1255  319.959991     -7.029999  319.970001  \n",
       "1256  318.799988      3.010010  322.980011  \n",
       "1257  322.364197      1.481384  324.461395  \n",
       "\n",
       "[251 rows x 9 columns]"
      ]
     },
     "execution_count": 110,
     "metadata": {},
     "output_type": "execute_result"
    }
   ],
   "source": [
    "features_df[train_size + 1:]"
   ]
  },
  {
   "cell_type": "markdown",
   "metadata": {},
   "source": [
    "Create the train and test dataframes"
   ]
  },
  {
   "cell_type": "code",
   "execution_count": 111,
   "metadata": {},
   "outputs": [
    {
     "data": {
      "text/plain": [
       "((1006, 9), (251, 9))"
      ]
     },
     "execution_count": 111,
     "metadata": {},
     "output_type": "execute_result"
    }
   ],
   "source": [
    "train_df, test_df = features_df[:train_size], features_df[train_size + 1:]\n",
    "train_df.shape, test_df.shape"
   ]
  },
  {
   "cell_type": "code",
   "execution_count": 112,
   "metadata": {},
   "outputs": [
    {
     "data": {
      "text/html": [
       "<div>\n",
       "<style scoped>\n",
       "    .dataframe tbody tr th:only-of-type {\n",
       "        vertical-align: middle;\n",
       "    }\n",
       "\n",
       "    .dataframe tbody tr th {\n",
       "        vertical-align: top;\n",
       "    }\n",
       "\n",
       "    .dataframe thead th {\n",
       "        text-align: right;\n",
       "    }\n",
       "</style>\n",
       "<table border=\"1\" class=\"dataframe\">\n",
       "  <thead>\n",
       "    <tr style=\"text-align: right;\">\n",
       "      <th></th>\n",
       "      <th>day_of_week</th>\n",
       "      <th>day_of_month</th>\n",
       "      <th>week_of_year</th>\n",
       "      <th>month</th>\n",
       "      <th>open</th>\n",
       "      <th>high</th>\n",
       "      <th>low</th>\n",
       "      <th>close_change</th>\n",
       "      <th>close</th>\n",
       "    </tr>\n",
       "  </thead>\n",
       "  <tbody>\n",
       "    <tr>\n",
       "      <th>0</th>\n",
       "      <td>1</td>\n",
       "      <td>35</td>\n",
       "      <td>35</td>\n",
       "      <td>8</td>\n",
       "      <td>104.160636</td>\n",
       "      <td>104.691195</td>\n",
       "      <td>104.018520</td>\n",
       "      <td>0.000000</td>\n",
       "      <td>104.463814</td>\n",
       "    </tr>\n",
       "    <tr>\n",
       "      <th>1</th>\n",
       "      <td>2</td>\n",
       "      <td>35</td>\n",
       "      <td>35</td>\n",
       "      <td>8</td>\n",
       "      <td>104.643819</td>\n",
       "      <td>106.140763</td>\n",
       "      <td>104.473281</td>\n",
       "      <td>1.667473</td>\n",
       "      <td>106.131287</td>\n",
       "    </tr>\n",
       "    <tr>\n",
       "      <th>2</th>\n",
       "      <td>3</td>\n",
       "      <td>35</td>\n",
       "      <td>35</td>\n",
       "      <td>8</td>\n",
       "      <td>105.799677</td>\n",
       "      <td>106.690265</td>\n",
       "      <td>105.581772</td>\n",
       "      <td>-0.066330</td>\n",
       "      <td>106.064957</td>\n",
       "    </tr>\n",
       "    <tr>\n",
       "      <th>3</th>\n",
       "      <td>4</td>\n",
       "      <td>35</td>\n",
       "      <td>35</td>\n",
       "      <td>8</td>\n",
       "      <td>105.818609</td>\n",
       "      <td>106.851306</td>\n",
       "      <td>105.657541</td>\n",
       "      <td>0.360008</td>\n",
       "      <td>106.424965</td>\n",
       "    </tr>\n",
       "    <tr>\n",
       "      <th>4</th>\n",
       "      <td>1</td>\n",
       "      <td>36</td>\n",
       "      <td>36</td>\n",
       "      <td>9</td>\n",
       "      <td>105.022779</td>\n",
       "      <td>106.074428</td>\n",
       "      <td>104.425899</td>\n",
       "      <td>-0.587395</td>\n",
       "      <td>105.837570</td>\n",
       "    </tr>\n",
       "    <tr>\n",
       "      <th>...</th>\n",
       "      <td>...</td>\n",
       "      <td>...</td>\n",
       "      <td>...</td>\n",
       "      <td>...</td>\n",
       "      <td>...</td>\n",
       "      <td>...</td>\n",
       "      <td>...</td>\n",
       "      <td>...</td>\n",
       "      <td>...</td>\n",
       "    </tr>\n",
       "    <tr>\n",
       "      <th>1001</th>\n",
       "      <td>4</td>\n",
       "      <td>33</td>\n",
       "      <td>33</td>\n",
       "      <td>8</td>\n",
       "      <td>286.135674</td>\n",
       "      <td>286.482331</td>\n",
       "      <td>282.827636</td>\n",
       "      <td>-3.981598</td>\n",
       "      <td>283.411987</td>\n",
       "    </tr>\n",
       "    <tr>\n",
       "      <th>1002</th>\n",
       "      <td>0</td>\n",
       "      <td>34</td>\n",
       "      <td>34</td>\n",
       "      <td>8</td>\n",
       "      <td>279.380932</td>\n",
       "      <td>279.757301</td>\n",
       "      <td>274.567449</td>\n",
       "      <td>-8.319611</td>\n",
       "      <td>275.092377</td>\n",
       "    </tr>\n",
       "    <tr>\n",
       "      <th>1003</th>\n",
       "      <td>1</td>\n",
       "      <td>34</td>\n",
       "      <td>34</td>\n",
       "      <td>8</td>\n",
       "      <td>273.794922</td>\n",
       "      <td>276.191749</td>\n",
       "      <td>272.764865</td>\n",
       "      <td>-1.297455</td>\n",
       "      <td>273.794922</td>\n",
       "    </tr>\n",
       "    <tr>\n",
       "      <th>1004</th>\n",
       "      <td>2</td>\n",
       "      <td>34</td>\n",
       "      <td>34</td>\n",
       "      <td>8</td>\n",
       "      <td>272.774785</td>\n",
       "      <td>274.577378</td>\n",
       "      <td>272.477637</td>\n",
       "      <td>-0.643768</td>\n",
       "      <td>273.151154</td>\n",
       "    </tr>\n",
       "    <tr>\n",
       "      <th>1005</th>\n",
       "      <td>3</td>\n",
       "      <td>34</td>\n",
       "      <td>34</td>\n",
       "      <td>8</td>\n",
       "      <td>274.676409</td>\n",
       "      <td>276.350241</td>\n",
       "      <td>271.893299</td>\n",
       "      <td>3.030731</td>\n",
       "      <td>276.181885</td>\n",
       "    </tr>\n",
       "  </tbody>\n",
       "</table>\n",
       "<p>1006 rows × 9 columns</p>\n",
       "</div>"
      ],
      "text/plain": [
       "      day_of_week  day_of_month  week_of_year  month        open        high  \\\n",
       "0               1            35            35      8  104.160636  104.691195   \n",
       "1               2            35            35      8  104.643819  106.140763   \n",
       "2               3            35            35      8  105.799677  106.690265   \n",
       "3               4            35            35      8  105.818609  106.851306   \n",
       "4               1            36            36      9  105.022779  106.074428   \n",
       "...           ...           ...           ...    ...         ...         ...   \n",
       "1001            4            33            33      8  286.135674  286.482331   \n",
       "1002            0            34            34      8  279.380932  279.757301   \n",
       "1003            1            34            34      8  273.794922  276.191749   \n",
       "1004            2            34            34      8  272.774785  274.577378   \n",
       "1005            3            34            34      8  274.676409  276.350241   \n",
       "\n",
       "             low  close_change       close  \n",
       "0     104.018520      0.000000  104.463814  \n",
       "1     104.473281      1.667473  106.131287  \n",
       "2     105.581772     -0.066330  106.064957  \n",
       "3     105.657541      0.360008  106.424965  \n",
       "4     104.425899     -0.587395  105.837570  \n",
       "...          ...           ...         ...  \n",
       "1001  282.827636     -3.981598  283.411987  \n",
       "1002  274.567449     -8.319611  275.092377  \n",
       "1003  272.764865     -1.297455  273.794922  \n",
       "1004  272.477637     -0.643768  273.151154  \n",
       "1005  271.893299      3.030731  276.181885  \n",
       "\n",
       "[1006 rows x 9 columns]"
      ]
     },
     "execution_count": 112,
     "metadata": {},
     "output_type": "execute_result"
    }
   ],
   "source": [
    "train_df"
   ]
  },
  {
   "cell_type": "code",
   "execution_count": 113,
   "metadata": {},
   "outputs": [],
   "source": [
    "scaler = MinMaxScaler(feature_range=(-1, 1))\n",
    "scaler = scaler.fit(train_df)"
   ]
  },
  {
   "cell_type": "code",
   "execution_count": 114,
   "metadata": {},
   "outputs": [
    {
     "data": {
      "text/html": [
       "<div>\n",
       "<style scoped>\n",
       "    .dataframe tbody tr th:only-of-type {\n",
       "        vertical-align: middle;\n",
       "    }\n",
       "\n",
       "    .dataframe tbody tr th {\n",
       "        vertical-align: top;\n",
       "    }\n",
       "\n",
       "    .dataframe thead th {\n",
       "        text-align: right;\n",
       "    }\n",
       "</style>\n",
       "<table border=\"1\" class=\"dataframe\">\n",
       "  <thead>\n",
       "    <tr style=\"text-align: right;\">\n",
       "      <th></th>\n",
       "      <th>day_of_week</th>\n",
       "      <th>day_of_month</th>\n",
       "      <th>week_of_year</th>\n",
       "      <th>month</th>\n",
       "      <th>open</th>\n",
       "      <th>high</th>\n",
       "      <th>low</th>\n",
       "      <th>close_change</th>\n",
       "      <th>close</th>\n",
       "    </tr>\n",
       "  </thead>\n",
       "  <tbody>\n",
       "    <tr>\n",
       "      <th>1007</th>\n",
       "      <td>0</td>\n",
       "      <td>35</td>\n",
       "      <td>35</td>\n",
       "      <td>8</td>\n",
       "      <td>263.306293</td>\n",
       "      <td>264.841450</td>\n",
       "      <td>261.325430</td>\n",
       "      <td>-2.832581</td>\n",
       "      <td>262.692230</td>\n",
       "    </tr>\n",
       "    <tr>\n",
       "      <th>1008</th>\n",
       "      <td>1</td>\n",
       "      <td>35</td>\n",
       "      <td>35</td>\n",
       "      <td>8</td>\n",
       "      <td>264.118405</td>\n",
       "      <td>264.494744</td>\n",
       "      <td>258.165902</td>\n",
       "      <td>-2.238434</td>\n",
       "      <td>260.453796</td>\n",
       "    </tr>\n",
       "    <tr>\n",
       "      <th>1009</th>\n",
       "      <td>2</td>\n",
       "      <td>35</td>\n",
       "      <td>35</td>\n",
       "      <td>8</td>\n",
       "      <td>262.850676</td>\n",
       "      <td>264.554189</td>\n",
       "      <td>258.829495</td>\n",
       "      <td>-1.485626</td>\n",
       "      <td>258.968170</td>\n",
       "    </tr>\n",
       "    <tr>\n",
       "      <th>1010</th>\n",
       "      <td>3</td>\n",
       "      <td>35</td>\n",
       "      <td>35</td>\n",
       "      <td>9</td>\n",
       "      <td>256.392997</td>\n",
       "      <td>258.393688</td>\n",
       "      <td>252.966112</td>\n",
       "      <td>-1.059814</td>\n",
       "      <td>257.908356</td>\n",
       "    </tr>\n",
       "    <tr>\n",
       "      <th>1011</th>\n",
       "      <td>4</td>\n",
       "      <td>35</td>\n",
       "      <td>35</td>\n",
       "      <td>9</td>\n",
       "      <td>259.195973</td>\n",
       "      <td>262.206864</td>\n",
       "      <td>252.035142</td>\n",
       "      <td>-4.298431</td>\n",
       "      <td>253.609924</td>\n",
       "    </tr>\n",
       "  </tbody>\n",
       "</table>\n",
       "</div>"
      ],
      "text/plain": [
       "      day_of_week  day_of_month  week_of_year  month        open        high  \\\n",
       "1007            0            35            35      8  263.306293  264.841450   \n",
       "1008            1            35            35      8  264.118405  264.494744   \n",
       "1009            2            35            35      8  262.850676  264.554189   \n",
       "1010            3            35            35      9  256.392997  258.393688   \n",
       "1011            4            35            35      9  259.195973  262.206864   \n",
       "\n",
       "             low  close_change       close  \n",
       "1007  261.325430     -2.832581  262.692230  \n",
       "1008  258.165902     -2.238434  260.453796  \n",
       "1009  258.829495     -1.485626  258.968170  \n",
       "1010  252.966112     -1.059814  257.908356  \n",
       "1011  252.035142     -4.298431  253.609924  "
      ]
     },
     "execution_count": 114,
     "metadata": {},
     "output_type": "execute_result"
    }
   ],
   "source": [
    "test_df.head()\n"
   ]
  },
  {
   "cell_type": "code",
   "execution_count": 115,
   "metadata": {},
   "outputs": [],
   "source": [
    "train_df = pd.DataFrame(\n",
    "    scaler.transform(train_df),\n",
    "    index=train_df.index,\n",
    "    columns=train_df.columns\n",
    ")"
   ]
  },
  {
   "cell_type": "code",
   "execution_count": 116,
   "metadata": {},
   "outputs": [],
   "source": [
    "test_df = pd.DataFrame(\n",
    "    scaler.transform(test_df),\n",
    "    index=test_df.index,\n",
    "    columns=test_df.columns\n",
    ")"
   ]
  },
  {
   "cell_type": "code",
   "execution_count": 117,
   "metadata": {},
   "outputs": [
    {
     "data": {
      "text/html": [
       "<div>\n",
       "<style scoped>\n",
       "    .dataframe tbody tr th:only-of-type {\n",
       "        vertical-align: middle;\n",
       "    }\n",
       "\n",
       "    .dataframe tbody tr th {\n",
       "        vertical-align: top;\n",
       "    }\n",
       "\n",
       "    .dataframe thead th {\n",
       "        text-align: right;\n",
       "    }\n",
       "</style>\n",
       "<table border=\"1\" class=\"dataframe\">\n",
       "  <thead>\n",
       "    <tr style=\"text-align: right;\">\n",
       "      <th></th>\n",
       "      <th>day_of_week</th>\n",
       "      <th>day_of_month</th>\n",
       "      <th>week_of_year</th>\n",
       "      <th>month</th>\n",
       "      <th>open</th>\n",
       "      <th>high</th>\n",
       "      <th>low</th>\n",
       "      <th>close_change</th>\n",
       "      <th>close</th>\n",
       "    </tr>\n",
       "  </thead>\n",
       "  <tbody>\n",
       "    <tr>\n",
       "      <th>0</th>\n",
       "      <td>-0.5</td>\n",
       "      <td>0.307692</td>\n",
       "      <td>0.307692</td>\n",
       "      <td>0.272727</td>\n",
       "      <td>-0.890316</td>\n",
       "      <td>-0.908550</td>\n",
       "      <td>-0.881827</td>\n",
       "      <td>0.084297</td>\n",
       "      <td>-0.879891</td>\n",
       "    </tr>\n",
       "    <tr>\n",
       "      <th>1</th>\n",
       "      <td>0.0</td>\n",
       "      <td>0.307692</td>\n",
       "      <td>0.307692</td>\n",
       "      <td>0.272727</td>\n",
       "      <td>-0.886428</td>\n",
       "      <td>-0.896993</td>\n",
       "      <td>-0.878150</td>\n",
       "      <td>0.164065</td>\n",
       "      <td>-0.866446</td>\n",
       "    </tr>\n",
       "    <tr>\n",
       "      <th>2</th>\n",
       "      <td>0.5</td>\n",
       "      <td>0.307692</td>\n",
       "      <td>0.307692</td>\n",
       "      <td>0.272727</td>\n",
       "      <td>-0.877129</td>\n",
       "      <td>-0.892612</td>\n",
       "      <td>-0.869186</td>\n",
       "      <td>0.081124</td>\n",
       "      <td>-0.866981</td>\n",
       "    </tr>\n",
       "    <tr>\n",
       "      <th>3</th>\n",
       "      <td>1.0</td>\n",
       "      <td>0.307692</td>\n",
       "      <td>0.307692</td>\n",
       "      <td>0.272727</td>\n",
       "      <td>-0.876976</td>\n",
       "      <td>-0.891328</td>\n",
       "      <td>-0.868573</td>\n",
       "      <td>0.101519</td>\n",
       "      <td>-0.864078</td>\n",
       "    </tr>\n",
       "    <tr>\n",
       "      <th>4</th>\n",
       "      <td>-0.5</td>\n",
       "      <td>0.346154</td>\n",
       "      <td>0.346154</td>\n",
       "      <td>0.454545</td>\n",
       "      <td>-0.883379</td>\n",
       "      <td>-0.897522</td>\n",
       "      <td>-0.878533</td>\n",
       "      <td>0.056198</td>\n",
       "      <td>-0.868814</td>\n",
       "    </tr>\n",
       "  </tbody>\n",
       "</table>\n",
       "</div>"
      ],
      "text/plain": [
       "   day_of_week  day_of_month  week_of_year     month      open      high  \\\n",
       "0         -0.5      0.307692      0.307692  0.272727 -0.890316 -0.908550   \n",
       "1          0.0      0.307692      0.307692  0.272727 -0.886428 -0.896993   \n",
       "2          0.5      0.307692      0.307692  0.272727 -0.877129 -0.892612   \n",
       "3          1.0      0.307692      0.307692  0.272727 -0.876976 -0.891328   \n",
       "4         -0.5      0.346154      0.346154  0.454545 -0.883379 -0.897522   \n",
       "\n",
       "        low  close_change     close  \n",
       "0 -0.881827      0.084297 -0.879891  \n",
       "1 -0.878150      0.164065 -0.866446  \n",
       "2 -0.869186      0.081124 -0.866981  \n",
       "3 -0.868573      0.101519 -0.864078  \n",
       "4 -0.878533      0.056198 -0.868814  "
      ]
     },
     "execution_count": 117,
     "metadata": {},
     "output_type": "execute_result"
    }
   ],
   "source": [
    "train_df.head()"
   ]
  },
  {
   "cell_type": "markdown",
   "metadata": {},
   "source": [
    "Define the create sequences function"
   ]
  },
  {
   "cell_type": "code",
   "execution_count": 118,
   "metadata": {},
   "outputs": [],
   "source": [
    "def create_sequences(input_data: pd.DataFrame, target_column, sequence_length):\n",
    "    sequences = []\n",
    "    data_size = len(input_data)\n",
    "    \n",
    "    for i in tqdm(range(data_size - sequence_length)):\n",
    "        sequence = input_data[i:i+sequence_length]\n",
    "        \n",
    "        label_position = i + sequence_length\n",
    "        label = input_data.iloc[label_position][target_column]\n",
    "        \n",
    "        sequences.append((sequence,label))\n",
    "        \n",
    "    return sequences"
   ]
  },
  {
   "cell_type": "code",
   "execution_count": 119,
   "metadata": {},
   "outputs": [
    {
     "data": {
      "text/html": [
       "<div>\n",
       "<style scoped>\n",
       "    .dataframe tbody tr th:only-of-type {\n",
       "        vertical-align: middle;\n",
       "    }\n",
       "\n",
       "    .dataframe tbody tr th {\n",
       "        vertical-align: top;\n",
       "    }\n",
       "\n",
       "    .dataframe thead th {\n",
       "        text-align: right;\n",
       "    }\n",
       "</style>\n",
       "<table border=\"1\" class=\"dataframe\">\n",
       "  <thead>\n",
       "    <tr style=\"text-align: right;\">\n",
       "      <th></th>\n",
       "      <th>feature_1</th>\n",
       "      <th>label</th>\n",
       "    </tr>\n",
       "  </thead>\n",
       "  <tbody>\n",
       "    <tr>\n",
       "      <th>0</th>\n",
       "      <td>1</td>\n",
       "      <td>6</td>\n",
       "    </tr>\n",
       "    <tr>\n",
       "      <th>1</th>\n",
       "      <td>2</td>\n",
       "      <td>7</td>\n",
       "    </tr>\n",
       "    <tr>\n",
       "      <th>2</th>\n",
       "      <td>3</td>\n",
       "      <td>8</td>\n",
       "    </tr>\n",
       "    <tr>\n",
       "      <th>3</th>\n",
       "      <td>4</td>\n",
       "      <td>9</td>\n",
       "    </tr>\n",
       "    <tr>\n",
       "      <th>4</th>\n",
       "      <td>5</td>\n",
       "      <td>10</td>\n",
       "    </tr>\n",
       "  </tbody>\n",
       "</table>\n",
       "</div>"
      ],
      "text/plain": [
       "   feature_1  label\n",
       "0          1      6\n",
       "1          2      7\n",
       "2          3      8\n",
       "3          4      9\n",
       "4          5     10"
      ]
     },
     "execution_count": 119,
     "metadata": {},
     "output_type": "execute_result"
    }
   ],
   "source": [
    "sample_data = pd.DataFrame(dict(\n",
    "    feature_1=[1,2,3,4,5],\n",
    "    label=[6,7,8,9,10]\n",
    "))\n",
    "\n",
    "sample_data.head()"
   ]
  },
  {
   "cell_type": "code",
   "execution_count": 120,
   "metadata": {},
   "outputs": [
    {
     "data": {
      "application/vnd.jupyter.widget-view+json": {
       "model_id": "1f81831388864ce08ae61a1c9525785f",
       "version_major": 2,
       "version_minor": 0
      },
      "text/plain": [
       "  0%|          | 0/2 [00:00<?, ?it/s]"
      ]
     },
     "metadata": {},
     "output_type": "display_data"
    }
   ],
   "source": [
    "sample_sequences = create_sequences(sample_data, \"label\", sequence_length=3)"
   ]
  },
  {
   "cell_type": "code",
   "execution_count": 121,
   "metadata": {},
   "outputs": [
    {
     "data": {
      "text/plain": [
       "2"
      ]
     },
     "execution_count": 121,
     "metadata": {},
     "output_type": "execute_result"
    }
   ],
   "source": [
    "len(sample_sequences)"
   ]
  },
  {
   "cell_type": "code",
   "execution_count": 122,
   "metadata": {},
   "outputs": [
    {
     "name": "stdout",
     "output_type": "stream",
     "text": [
      "   feature_1  label\n",
      "0          1      6\n",
      "1          2      7\n",
      "2          3      8\n",
      "\n",
      "label: 9\n"
     ]
    }
   ],
   "source": [
    "print(sample_sequences[0][0])\n",
    "print()\n",
    "print(f\"label: {sample_sequences[0][1]}\")"
   ]
  },
  {
   "cell_type": "code",
   "execution_count": 123,
   "metadata": {},
   "outputs": [
    {
     "data": {
      "application/vnd.jupyter.widget-view+json": {
       "model_id": "ec274bf2146f4ded9b777be9a3f7f0c4",
       "version_major": 2,
       "version_minor": 0
      },
      "text/plain": [
       "  0%|          | 0/886 [00:00<?, ?it/s]"
      ]
     },
     "metadata": {},
     "output_type": "display_data"
    },
    {
     "data": {
      "application/vnd.jupyter.widget-view+json": {
       "model_id": "d2dc5b4feff442ad962c0095a0dfae40",
       "version_major": 2,
       "version_minor": 0
      },
      "text/plain": [
       "  0%|          | 0/131 [00:00<?, ?it/s]"
      ]
     },
     "metadata": {},
     "output_type": "display_data"
    }
   ],
   "source": [
    "SEQUENCE_LENGTH = 120\n",
    "\n",
    "train_sequences = create_sequences(train_df, \"close\", SEQUENCE_LENGTH)\n",
    "test_sequences = create_sequences(test_df, \"close\", SEQUENCE_LENGTH)"
   ]
  },
  {
   "cell_type": "code",
   "execution_count": 124,
   "metadata": {},
   "outputs": [
    {
     "data": {
      "text/plain": [
       "(120, 9)"
      ]
     },
     "execution_count": 124,
     "metadata": {},
     "output_type": "execute_result"
    }
   ],
   "source": [
    "train_sequences[0][0].shape"
   ]
  },
  {
   "cell_type": "code",
   "execution_count": 125,
   "metadata": {},
   "outputs": [
    {
     "data": {
      "text/plain": [
       "(886, 131)"
      ]
     },
     "execution_count": 125,
     "metadata": {},
     "output_type": "execute_result"
    }
   ],
   "source": [
    "len(train_sequences), len(test_sequences)"
   ]
  },
  {
   "cell_type": "markdown",
   "metadata": {},
   "source": [
    "Create the stock dataset that inherits from \"Dataset\""
   ]
  },
  {
   "cell_type": "code",
   "execution_count": 126,
   "metadata": {},
   "outputs": [],
   "source": [
    "class StockDataset(Dataset):\n",
    "    def __init__(self,sequences):\n",
    "        self.sequences = sequences\n",
    "    \n",
    "    def __len__(self):\n",
    "        return len(self.sequences)\n",
    "    \n",
    "    def __getitem__(self, id):\n",
    "        sequence, label = self.sequences[id]\n",
    "        \n",
    "        return dict(\n",
    "            sequence=torch.Tensor(sequence.to_numpy()),\n",
    "            label=torch.tensor(label).float()\n",
    "        )\n",
    "        "
   ]
  },
  {
   "cell_type": "markdown",
   "metadata": {},
   "source": [
    "Create the stock price data module "
   ]
  },
  {
   "cell_type": "code",
   "execution_count": 127,
   "metadata": {},
   "outputs": [],
   "source": [
    "class StockPriceDataModule(pl.LightningDataModule):\n",
    "    def __init__(self, train_sequences, test_sequences, batch_size=8):\n",
    "        super().__init__()\n",
    "        self.train_sequences = train_sequences\n",
    "        self.test_sequences = test_sequences\n",
    "        self.batch_size = batch_size\n",
    "        \n",
    "    def setup(self):\n",
    "        self.train_dataset = StockDataset(self.train_sequences)\n",
    "        self.test_dataset = StockDataset(self.test_sequences)\n",
    "        \n",
    "    def train_dataloader(self):\n",
    "        return DataLoader(\n",
    "            self.train_dataset,\n",
    "            batch_size=self.batch_size,\n",
    "            shuffle=False,\n",
    "            num_workers=0\n",
    "        )\n",
    "       \n",
    "    def val_dataloader(self):\n",
    "        return DataLoader(\n",
    "            self.test_dataset,\n",
    "            batch_size=1,\n",
    "            shuffle=False,\n",
    "            num_workers=0\n",
    "        ) \n",
    "        \n",
    "    def test_dataloader(self):\n",
    "        return DataLoader(\n",
    "            self.test_dataset,\n",
    "            batch_size=1,\n",
    "            shuffle=False,\n",
    "            num_workers=0\n",
    "        ) "
   ]
  },
  {
   "cell_type": "code",
   "execution_count": 128,
   "metadata": {},
   "outputs": [],
   "source": [
    "N_EPOCHS = 8\n",
    "BATCH_SIZE = 64\n",
    "\n",
    "data_module = StockPriceDataModule(train_sequences,test_sequences,batch_size=BATCH_SIZE)\n",
    "data_module.setup()"
   ]
  },
  {
   "cell_type": "code",
   "execution_count": 129,
   "metadata": {},
   "outputs": [],
   "source": [
    "train_dataset = StockDataset(train_sequences)"
   ]
  },
  {
   "cell_type": "code",
   "execution_count": 130,
   "metadata": {},
   "outputs": [
    {
     "name": "stdout",
     "output_type": "stream",
     "text": [
      "torch.Size([120, 9])\n",
      "torch.Size([])\n",
      "tensor(-0.8792)\n"
     ]
    }
   ],
   "source": [
    "for i in train_dataset:\n",
    "    print(i['sequence'].shape)\n",
    "    print(i['label'].shape)\n",
    "    print(i['label'])\n",
    "    break"
   ]
  },
  {
   "cell_type": "markdown",
   "metadata": {},
   "source": [
    "Price prediction model creation"
   ]
  },
  {
   "cell_type": "code",
   "execution_count": 131,
   "metadata": {},
   "outputs": [],
   "source": [
    "class PricePredictionModel(nn.Module):\n",
    "    def __init__(self,n_features, n_hidden=128, n_layers=2):\n",
    "        super().__init__()\n",
    "        \n",
    "        self.n_hidden = n_hidden\n",
    "        \n",
    "        self.lstm = nn.LSTM(\n",
    "            input_size=n_features,\n",
    "            hidden_size=n_hidden,\n",
    "            batch_first=False,\n",
    "            num_layers=n_layers,\n",
    "            dropout=0.2\n",
    "        )\n",
    "        \n",
    "        self.regressor = nn.Linear(n_hidden, 1)\n",
    "        \n",
    "    def forward(self, x):\n",
    "        self.lstm.flatten_parameters()\n",
    "        _, (hidden, _) = self.lstm(x)\n",
    "        out = hidden[-1]\n",
    "        \n",
    "        return self.regressor(out)"
   ]
  },
  {
   "cell_type": "code",
   "execution_count": 132,
   "metadata": {},
   "outputs": [],
   "source": [
    "class StockPricePredictor(pl.LightningModule):\n",
    "    def __init__(self, n_features):\n",
    "        super().__init__()\n",
    "        self.model = PricePredictionModel(n_features)\n",
    "        self.criteria = nn.MSELoss()\n",
    "        \n",
    "    def forward(self, x, labels=None):\n",
    "        output = self.model(x)\n",
    "        loss = 0\n",
    "        if labels is not None:\n",
    "            loss = self.criteria(output, labels.unsqueeze(dim=1))\n",
    "        return loss, output\n",
    "    \n",
    "    def training_step(self, batch, batch_id):\n",
    "        sequences = batch['sequence']\n",
    "        labels = batch['label']\n",
    "        \n",
    "        loss, outputs = self(sequences, labels)\n",
    "        self.log('train_loss', loss, prog_bar=True, logger=True)\n",
    "        return loss\n",
    "    \n",
    "    def validation_step(self, batch, batch_id):\n",
    "        sequences = batch['sequence']\n",
    "        labels = batch['label']\n",
    "        \n",
    "        loss, outputs = self(sequences, labels)\n",
    "        self.log('val_loss', loss, prog_bar=True, logger=True)\n",
    "        return loss\n",
    "    \n",
    "    def test_step(self, batch, batch_id):\n",
    "        sequences = batch['sequence']\n",
    "        labels = batch['label']\n",
    "        \n",
    "        loss, outputs = self(sequences, labels)\n",
    "        self.log('test_loss', loss, prog_bar=True, logger=True)\n",
    "        return loss\n",
    "    \n",
    "    def configure_optimizers(self):\n",
    "        return optim.AdamW(self.parameters(), lr=0.0001)"
   ]
  },
  {
   "cell_type": "code",
   "execution_count": 133,
   "metadata": {},
   "outputs": [],
   "source": [
    "model = StockPricePredictor(n_features=train_df.shape[1])"
   ]
  },
  {
   "cell_type": "code",
   "execution_count": 134,
   "metadata": {},
   "outputs": [
    {
     "name": "stdout",
     "output_type": "stream",
     "text": [
      "torch.Size([64, 120, 9])\n",
      "torch.Size([64])\n"
     ]
    }
   ],
   "source": [
    "for i in data_module.train_dataloader():\n",
    "    print(i['sequence'].shape)\n",
    "    print(i['label'].shape)\n",
    "    break"
   ]
  },
  {
   "cell_type": "code",
   "execution_count": 135,
   "metadata": {},
   "outputs": [
    {
     "name": "stdout",
     "output_type": "stream",
     "text": [
      "The tensorboard extension is already loaded. To reload it, use:\n",
      "  %reload_ext tensorboard\n"
     ]
    },
    {
     "data": {
      "text/plain": [
       "Reusing TensorBoard on port 6006 (pid 13220), started 0:31:24 ago. (Use '!kill 13220' to kill it.)"
      ]
     },
     "metadata": {},
     "output_type": "display_data"
    },
    {
     "data": {
      "text/html": [
       "\n",
       "      <iframe id=\"tensorboard-frame-1c80317fa3b1799d\" width=\"100%\" height=\"800\" frameborder=\"0\">\n",
       "      </iframe>\n",
       "      <script>\n",
       "        (function() {\n",
       "          const frame = document.getElementById(\"tensorboard-frame-1c80317fa3b1799d\");\n",
       "          const url = new URL(\"http://localhost\");\n",
       "          const port = 6006;\n",
       "          if (port) {\n",
       "            url.port = port;\n",
       "          }\n",
       "          frame.src = url;\n",
       "        })();\n",
       "      </script>\n",
       "    "
      ],
      "text/plain": [
       "<IPython.core.display.HTML object>"
      ]
     },
     "metadata": {},
     "output_type": "display_data"
    }
   ],
   "source": [
    "%load_ext tensorboard\n",
    "%tensorboard --logdir ./lightning_logs"
   ]
  },
  {
   "cell_type": "code",
   "execution_count": 136,
   "metadata": {},
   "outputs": [
    {
     "ename": "NameError",
     "evalue": "name 'early_stopping_callbacks' is not defined",
     "output_type": "error",
     "traceback": [
      "\u001b[1;31m---------------------------------------------------------------------------\u001b[0m",
      "\u001b[1;31mNameError\u001b[0m                                 Traceback (most recent call last)",
      "Cell \u001b[1;32mIn[136], line 17\u001b[0m\n\u001b[0;32m     10\u001b[0m logger \u001b[39m=\u001b[39m TensorBoardLogger(\u001b[39m'\u001b[39m\u001b[39mLightning_logs\u001b[39m\u001b[39m'\u001b[39m, name\u001b[39m=\u001b[39m\u001b[39mf\u001b[39m\u001b[39m\"\u001b[39m\u001b[39m{\u001b[39;00msymbol\u001b[39m}\u001b[39;00m\u001b[39m-price\u001b[39m\u001b[39m\"\u001b[39m)\n\u001b[0;32m     12\u001b[0m early_stopping_callback \u001b[39m=\u001b[39m EarlyStopping(monitor\u001b[39m=\u001b[39m\u001b[39m'\u001b[39m\u001b[39mval_loss\u001b[39m\u001b[39m'\u001b[39m, patience\u001b[39m=\u001b[39m\u001b[39m2\u001b[39m)\n\u001b[0;32m     14\u001b[0m trainer \u001b[39m=\u001b[39m pl\u001b[39m.\u001b[39mTrainer(\n\u001b[0;32m     15\u001b[0m     logger\u001b[39m=\u001b[39mlogger,\n\u001b[0;32m     16\u001b[0m     checkpoint_callback\u001b[39m=\u001b[39mcheckpoint_callback,\n\u001b[1;32m---> 17\u001b[0m     callbacks\u001b[39m=\u001b[39m[early_stopping_callbacks],\n\u001b[0;32m     18\u001b[0m     max_epochs\u001b[39m=\u001b[39mN_EPOCHS,\n\u001b[0;32m     19\u001b[0m     gpus\u001b[39m=\u001b[39m\u001b[39m1\u001b[39m,\n\u001b[0;32m     20\u001b[0m     progress_bar_refresh_rate\u001b[39m=\u001b[39m\u001b[39m30\u001b[39m\n\u001b[0;32m     21\u001b[0m )\n",
      "\u001b[1;31mNameError\u001b[0m: name 'early_stopping_callbacks' is not defined"
     ]
    }
   ],
   "source": [
    "checkpoint_callback = ModelCheckpoint(\n",
    "    dirpath='checkpoints',\n",
    "    filename='best-checkpoint',\n",
    "    save_top_k=1,\n",
    "    verbose=True,\n",
    "    monitor='val_loss',\n",
    "    mode='min'\n",
    ")\n",
    "\n",
    "logger = TensorBoardLogger('Lightning_logs', name=f\"{symbol}-price\")\n",
    "\n",
    "early_stopping_callback = EarlyStopping(monitor='val_loss', patience=2)\n",
    "\n",
    "trainer = pl.Trainer(\n",
    "    logger=logger,\n",
    "    checkpoint_callback=checkpoint_callback,\n",
    "    callbacks=[early_stopping_callbacks],\n",
    "    max_epochs=N_EPOCHS,\n",
    "    gpus=1,\n",
    "    progress_bar_refresh_rate=30\n",
    ")"
   ]
  }
 ],
 "metadata": {
  "kernelspec": {
   "display_name": "base",
   "language": "python",
   "name": "python3"
  },
  "language_info": {
   "codemirror_mode": {
    "name": "ipython",
    "version": 3
   },
   "file_extension": ".py",
   "mimetype": "text/x-python",
   "name": "python",
   "nbconvert_exporter": "python",
   "pygments_lexer": "ipython3",
   "version": "3.10.9"
  },
  "orig_nbformat": 4
 },
 "nbformat": 4,
 "nbformat_minor": 2
}
