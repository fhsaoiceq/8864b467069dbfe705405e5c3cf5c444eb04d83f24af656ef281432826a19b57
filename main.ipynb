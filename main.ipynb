{
 "cells": [
  {
   "cell_type": "code",
   "execution_count": 93,
   "metadata": {},
   "outputs": [],
   "source": [
    "# %pip install --quiet pytorch-lightning"
   ]
  },
  {
   "cell_type": "code",
   "execution_count": 94,
   "metadata": {},
   "outputs": [],
   "source": [
    "# %pip install --quiet yfinance"
   ]
  },
  {
   "cell_type": "code",
   "execution_count": 95,
   "metadata": {},
   "outputs": [],
   "source": [
    "# %pip install --quiet tqdm"
   ]
  },
  {
   "cell_type": "code",
   "execution_count": 96,
   "metadata": {},
   "outputs": [],
   "source": [
    "# %pip install --quiet tensorboard"
   ]
  },
  {
   "cell_type": "markdown",
   "metadata": {},
   "source": [
    "Import required libraries"
   ]
  },
  {
   "cell_type": "code",
   "execution_count": 97,
   "metadata": {},
   "outputs": [],
   "source": [
    "import seaborn as sns\n",
    "from pylab import rcParams\n",
    "import matplotlib.pyplot as plt\n",
    "from matplotlib import rc\n",
    "import math\n",
    "import matplotlib\n",
    "\n",
    "import yfinance as yf\n",
    "import pandas as pd\n",
    "import numpy as np\n",
    "from tqdm.notebook import tqdm\n",
    "import pytorch_lightning as pl\n",
    "from pytorch_lightning.callbacks import ModelCheckpoint\n",
    "from pytorch_lightning.loggers import TensorBoardLogger\n",
    "from pytorch_lightning.callbacks.early_stopping import EarlyStopping\n",
    "from sklearn.preprocessing import MinMaxScaler\n",
    "\n",
    "import torch\n",
    "import torch.autograd as autograd\n",
    "from torch import nn\n",
    "import torch.nn.functional as F\n",
    "import torch.optim as optim\n",
    "from torch.utils.data import Dataset,DataLoader"
   ]
  },
  {
   "cell_type": "markdown",
   "metadata": {},
   "source": [
    "Create configs for layout, size and colors"
   ]
  },
  {
   "cell_type": "code",
   "execution_count": 98,
   "metadata": {},
   "outputs": [],
   "source": [
    "%matplotlib inline\n",
    "%config InLineBackend.figure_format='retina'\n",
    "\n",
    "sns.set(style='whitegrid', palette='muted', font_scale = 1.1)\n",
    "\n",
    "BRIGHT_COLORS_PALETTE = ['#01BEFE','#FFDD00','#FF7D00','#FF006D','#ADFF02','#8F00FF']\n",
    "\n",
    "sns.set_palette(sns.color_palette(BRIGHT_COLORS_PALETTE))\n",
    "\n",
    "rcParams['figure.figsize'] = 12, 8\n",
    "\n",
    "tqdm.pandas()"
   ]
  },
  {
   "cell_type": "markdown",
   "metadata": {},
   "source": [
    "Set pytorch lightning seed to 42"
   ]
  },
  {
   "cell_type": "code",
   "execution_count": 99,
   "metadata": {},
   "outputs": [
    {
     "name": "stderr",
     "output_type": "stream",
     "text": [
      "Global seed set to 42\n"
     ]
    },
    {
     "data": {
      "text/plain": [
       "42"
      ]
     },
     "execution_count": 99,
     "metadata": {},
     "output_type": "execute_result"
    }
   ],
   "source": [
    "pl.seed_everything(42)"
   ]
  },
  {
   "cell_type": "markdown",
   "metadata": {},
   "source": [
    "Read yfinance symbol/s and put them into a dataframe"
   ]
  },
  {
   "cell_type": "code",
   "execution_count": 100,
   "metadata": {},
   "outputs": [
    {
     "data": {
      "text/html": [
       "<div>\n",
       "<style scoped>\n",
       "    .dataframe tbody tr th:only-of-type {\n",
       "        vertical-align: middle;\n",
       "    }\n",
       "\n",
       "    .dataframe tbody tr th {\n",
       "        vertical-align: top;\n",
       "    }\n",
       "\n",
       "    .dataframe thead th {\n",
       "        text-align: right;\n",
       "    }\n",
       "</style>\n",
       "<table border=\"1\" class=\"dataframe\">\n",
       "  <thead>\n",
       "    <tr style=\"text-align: right;\">\n",
       "      <th></th>\n",
       "      <th>Open</th>\n",
       "      <th>High</th>\n",
       "      <th>Low</th>\n",
       "      <th>Close</th>\n",
       "      <th>Volume</th>\n",
       "      <th>Dividends</th>\n",
       "      <th>Stock Splits</th>\n",
       "    </tr>\n",
       "    <tr>\n",
       "      <th>Date</th>\n",
       "      <th></th>\n",
       "      <th></th>\n",
       "      <th></th>\n",
       "      <th></th>\n",
       "      <th></th>\n",
       "      <th></th>\n",
       "      <th></th>\n",
       "    </tr>\n",
       "  </thead>\n",
       "  <tbody>\n",
       "    <tr>\n",
       "      <th>2018-08-28 00:00:00-04:00</th>\n",
       "      <td>104.160636</td>\n",
       "      <td>104.691195</td>\n",
       "      <td>104.018520</td>\n",
       "      <td>104.463814</td>\n",
       "      <td>19151500</td>\n",
       "      <td>0.0</td>\n",
       "      <td>0.0</td>\n",
       "    </tr>\n",
       "    <tr>\n",
       "      <th>2018-08-29 00:00:00-04:00</th>\n",
       "      <td>104.643819</td>\n",
       "      <td>106.140763</td>\n",
       "      <td>104.473281</td>\n",
       "      <td>106.131287</td>\n",
       "      <td>20818000</td>\n",
       "      <td>0.0</td>\n",
       "      <td>0.0</td>\n",
       "    </tr>\n",
       "    <tr>\n",
       "      <th>2018-08-30 00:00:00-04:00</th>\n",
       "      <td>105.799677</td>\n",
       "      <td>106.690265</td>\n",
       "      <td>105.581772</td>\n",
       "      <td>106.064957</td>\n",
       "      <td>22798700</td>\n",
       "      <td>0.0</td>\n",
       "      <td>0.0</td>\n",
       "    </tr>\n",
       "    <tr>\n",
       "      <th>2018-08-31 00:00:00-04:00</th>\n",
       "      <td>105.818609</td>\n",
       "      <td>106.851306</td>\n",
       "      <td>105.657541</td>\n",
       "      <td>106.424965</td>\n",
       "      <td>23222700</td>\n",
       "      <td>0.0</td>\n",
       "      <td>0.0</td>\n",
       "    </tr>\n",
       "    <tr>\n",
       "      <th>2018-09-04 00:00:00-04:00</th>\n",
       "      <td>105.022779</td>\n",
       "      <td>106.074428</td>\n",
       "      <td>104.425899</td>\n",
       "      <td>105.837570</td>\n",
       "      <td>22634600</td>\n",
       "      <td>0.0</td>\n",
       "      <td>0.0</td>\n",
       "    </tr>\n",
       "  </tbody>\n",
       "</table>\n",
       "</div>"
      ],
      "text/plain": [
       "                                 Open        High         Low       Close  \\\n",
       "Date                                                                        \n",
       "2018-08-28 00:00:00-04:00  104.160636  104.691195  104.018520  104.463814   \n",
       "2018-08-29 00:00:00-04:00  104.643819  106.140763  104.473281  106.131287   \n",
       "2018-08-30 00:00:00-04:00  105.799677  106.690265  105.581772  106.064957   \n",
       "2018-08-31 00:00:00-04:00  105.818609  106.851306  105.657541  106.424965   \n",
       "2018-09-04 00:00:00-04:00  105.022779  106.074428  104.425899  105.837570   \n",
       "\n",
       "                             Volume  Dividends  Stock Splits  \n",
       "Date                                                          \n",
       "2018-08-28 00:00:00-04:00  19151500        0.0           0.0  \n",
       "2018-08-29 00:00:00-04:00  20818000        0.0           0.0  \n",
       "2018-08-30 00:00:00-04:00  22798700        0.0           0.0  \n",
       "2018-08-31 00:00:00-04:00  23222700        0.0           0.0  \n",
       "2018-09-04 00:00:00-04:00  22634600        0.0           0.0  "
      ]
     },
     "execution_count": 100,
     "metadata": {},
     "output_type": "execute_result"
    }
   ],
   "source": [
    "symbol = \"MSFT\"\n",
    "msft = yf.Ticker(symbol)\n",
    "\n",
    "# get all stock info\n",
    "msft.info\n",
    "\n",
    "# get historical market data\n",
    "hist = msft.history(period=\"5y\")\n",
    "\n",
    "df = pd.DataFrame(hist)\n",
    "df.index = pd.to_datetime(df.index)\n",
    "df = df.sort_values(by='Date')\n",
    "\n",
    "df.head()\n"
   ]
  },
  {
   "cell_type": "code",
   "execution_count": 101,
   "metadata": {},
   "outputs": [
    {
     "data": {
      "text/plain": [
       "DatetimeIndex(['2018-08-28 00:00:00-04:00', '2018-08-29 00:00:00-04:00',\n",
       "               '2018-08-30 00:00:00-04:00', '2018-08-31 00:00:00-04:00',\n",
       "               '2018-09-04 00:00:00-04:00', '2018-09-05 00:00:00-04:00',\n",
       "               '2018-09-06 00:00:00-04:00', '2018-09-07 00:00:00-04:00',\n",
       "               '2018-09-10 00:00:00-04:00', '2018-09-11 00:00:00-04:00',\n",
       "               ...\n",
       "               '2023-08-15 00:00:00-04:00', '2023-08-16 00:00:00-04:00',\n",
       "               '2023-08-17 00:00:00-04:00', '2023-08-18 00:00:00-04:00',\n",
       "               '2023-08-21 00:00:00-04:00', '2023-08-22 00:00:00-04:00',\n",
       "               '2023-08-23 00:00:00-04:00', '2023-08-24 00:00:00-04:00',\n",
       "               '2023-08-25 00:00:00-04:00', '2023-08-28 00:00:00-04:00'],\n",
       "              dtype='datetime64[ns, America/New_York]', name='Date', length=1258, freq=None)"
      ]
     },
     "execution_count": 101,
     "metadata": {},
     "output_type": "execute_result"
    }
   ],
   "source": [
    "df.index"
   ]
  },
  {
   "cell_type": "markdown",
   "metadata": {},
   "source": [
    "Check the shape of the dataframe"
   ]
  },
  {
   "cell_type": "code",
   "execution_count": 102,
   "metadata": {},
   "outputs": [
    {
     "data": {
      "text/plain": [
       "(1258, 7)"
      ]
     },
     "execution_count": 102,
     "metadata": {},
     "output_type": "execute_result"
    }
   ],
   "source": [
    "df.shape"
   ]
  },
  {
   "cell_type": "markdown",
   "metadata": {},
   "source": [
    "Preprocess the price data"
   ]
  },
  {
   "cell_type": "code",
   "execution_count": 103,
   "metadata": {},
   "outputs": [
    {
     "data": {
      "text/html": [
       "<div>\n",
       "<style scoped>\n",
       "    .dataframe tbody tr th:only-of-type {\n",
       "        vertical-align: middle;\n",
       "    }\n",
       "\n",
       "    .dataframe tbody tr th {\n",
       "        vertical-align: top;\n",
       "    }\n",
       "\n",
       "    .dataframe thead th {\n",
       "        text-align: right;\n",
       "    }\n",
       "</style>\n",
       "<table border=\"1\" class=\"dataframe\">\n",
       "  <thead>\n",
       "    <tr style=\"text-align: right;\">\n",
       "      <th></th>\n",
       "      <th>Open</th>\n",
       "      <th>High</th>\n",
       "      <th>Low</th>\n",
       "      <th>Close</th>\n",
       "      <th>Volume</th>\n",
       "      <th>Dividends</th>\n",
       "      <th>Stock Splits</th>\n",
       "      <th>Prev_close</th>\n",
       "    </tr>\n",
       "    <tr>\n",
       "      <th>Date</th>\n",
       "      <th></th>\n",
       "      <th></th>\n",
       "      <th></th>\n",
       "      <th></th>\n",
       "      <th></th>\n",
       "      <th></th>\n",
       "      <th></th>\n",
       "      <th></th>\n",
       "    </tr>\n",
       "  </thead>\n",
       "  <tbody>\n",
       "    <tr>\n",
       "      <th>2018-08-28 00:00:00-04:00</th>\n",
       "      <td>104.160636</td>\n",
       "      <td>104.691195</td>\n",
       "      <td>104.018520</td>\n",
       "      <td>104.463814</td>\n",
       "      <td>19151500</td>\n",
       "      <td>0.0</td>\n",
       "      <td>0.0</td>\n",
       "      <td>NaN</td>\n",
       "    </tr>\n",
       "    <tr>\n",
       "      <th>2018-08-29 00:00:00-04:00</th>\n",
       "      <td>104.643819</td>\n",
       "      <td>106.140763</td>\n",
       "      <td>104.473281</td>\n",
       "      <td>106.131287</td>\n",
       "      <td>20818000</td>\n",
       "      <td>0.0</td>\n",
       "      <td>0.0</td>\n",
       "      <td>104.463814</td>\n",
       "    </tr>\n",
       "    <tr>\n",
       "      <th>2018-08-30 00:00:00-04:00</th>\n",
       "      <td>105.799677</td>\n",
       "      <td>106.690265</td>\n",
       "      <td>105.581772</td>\n",
       "      <td>106.064957</td>\n",
       "      <td>22798700</td>\n",
       "      <td>0.0</td>\n",
       "      <td>0.0</td>\n",
       "      <td>106.131287</td>\n",
       "    </tr>\n",
       "    <tr>\n",
       "      <th>2018-08-31 00:00:00-04:00</th>\n",
       "      <td>105.818609</td>\n",
       "      <td>106.851306</td>\n",
       "      <td>105.657541</td>\n",
       "      <td>106.424965</td>\n",
       "      <td>23222700</td>\n",
       "      <td>0.0</td>\n",
       "      <td>0.0</td>\n",
       "      <td>106.064957</td>\n",
       "    </tr>\n",
       "    <tr>\n",
       "      <th>2018-09-04 00:00:00-04:00</th>\n",
       "      <td>105.022779</td>\n",
       "      <td>106.074428</td>\n",
       "      <td>104.425899</td>\n",
       "      <td>105.837570</td>\n",
       "      <td>22634600</td>\n",
       "      <td>0.0</td>\n",
       "      <td>0.0</td>\n",
       "      <td>106.424965</td>\n",
       "    </tr>\n",
       "  </tbody>\n",
       "</table>\n",
       "</div>"
      ],
      "text/plain": [
       "                                 Open        High         Low       Close  \\\n",
       "Date                                                                        \n",
       "2018-08-28 00:00:00-04:00  104.160636  104.691195  104.018520  104.463814   \n",
       "2018-08-29 00:00:00-04:00  104.643819  106.140763  104.473281  106.131287   \n",
       "2018-08-30 00:00:00-04:00  105.799677  106.690265  105.581772  106.064957   \n",
       "2018-08-31 00:00:00-04:00  105.818609  106.851306  105.657541  106.424965   \n",
       "2018-09-04 00:00:00-04:00  105.022779  106.074428  104.425899  105.837570   \n",
       "\n",
       "                             Volume  Dividends  Stock Splits  Prev_close  \n",
       "Date                                                                      \n",
       "2018-08-28 00:00:00-04:00  19151500        0.0           0.0         NaN  \n",
       "2018-08-29 00:00:00-04:00  20818000        0.0           0.0  104.463814  \n",
       "2018-08-30 00:00:00-04:00  22798700        0.0           0.0  106.131287  \n",
       "2018-08-31 00:00:00-04:00  23222700        0.0           0.0  106.064957  \n",
       "2018-09-04 00:00:00-04:00  22634600        0.0           0.0  106.424965  "
      ]
     },
     "execution_count": 103,
     "metadata": {},
     "output_type": "execute_result"
    }
   ],
   "source": [
    "df['Prev_close'] = df.shift(1)['Close']\n",
    "df.head()"
   ]
  },
  {
   "cell_type": "code",
   "execution_count": 104,
   "metadata": {},
   "outputs": [
    {
     "data": {
      "application/vnd.jupyter.widget-view+json": {
       "model_id": "00ada838341b4ab18f48a0a7eedf53f2",
       "version_major": 2,
       "version_minor": 0
      },
      "text/plain": [
       "  0%|          | 0/1258 [00:00<?, ?it/s]"
      ]
     },
     "metadata": {},
     "output_type": "display_data"
    },
    {
     "data": {
      "text/html": [
       "<div>\n",
       "<style scoped>\n",
       "    .dataframe tbody tr th:only-of-type {\n",
       "        vertical-align: middle;\n",
       "    }\n",
       "\n",
       "    .dataframe tbody tr th {\n",
       "        vertical-align: top;\n",
       "    }\n",
       "\n",
       "    .dataframe thead th {\n",
       "        text-align: right;\n",
       "    }\n",
       "</style>\n",
       "<table border=\"1\" class=\"dataframe\">\n",
       "  <thead>\n",
       "    <tr style=\"text-align: right;\">\n",
       "      <th></th>\n",
       "      <th>Open</th>\n",
       "      <th>High</th>\n",
       "      <th>Low</th>\n",
       "      <th>Close</th>\n",
       "      <th>Volume</th>\n",
       "      <th>Dividends</th>\n",
       "      <th>Stock Splits</th>\n",
       "      <th>Prev_close</th>\n",
       "      <th>Close_change</th>\n",
       "    </tr>\n",
       "    <tr>\n",
       "      <th>Date</th>\n",
       "      <th></th>\n",
       "      <th></th>\n",
       "      <th></th>\n",
       "      <th></th>\n",
       "      <th></th>\n",
       "      <th></th>\n",
       "      <th></th>\n",
       "      <th></th>\n",
       "      <th></th>\n",
       "    </tr>\n",
       "  </thead>\n",
       "  <tbody>\n",
       "    <tr>\n",
       "      <th>2018-08-28 00:00:00-04:00</th>\n",
       "      <td>104.160636</td>\n",
       "      <td>104.691195</td>\n",
       "      <td>104.018520</td>\n",
       "      <td>104.463814</td>\n",
       "      <td>19151500</td>\n",
       "      <td>0.0</td>\n",
       "      <td>0.0</td>\n",
       "      <td>NaN</td>\n",
       "      <td>0.000000</td>\n",
       "    </tr>\n",
       "    <tr>\n",
       "      <th>2018-08-29 00:00:00-04:00</th>\n",
       "      <td>104.643819</td>\n",
       "      <td>106.140763</td>\n",
       "      <td>104.473281</td>\n",
       "      <td>106.131287</td>\n",
       "      <td>20818000</td>\n",
       "      <td>0.0</td>\n",
       "      <td>0.0</td>\n",
       "      <td>104.463814</td>\n",
       "      <td>1.667473</td>\n",
       "    </tr>\n",
       "    <tr>\n",
       "      <th>2018-08-30 00:00:00-04:00</th>\n",
       "      <td>105.799677</td>\n",
       "      <td>106.690265</td>\n",
       "      <td>105.581772</td>\n",
       "      <td>106.064957</td>\n",
       "      <td>22798700</td>\n",
       "      <td>0.0</td>\n",
       "      <td>0.0</td>\n",
       "      <td>106.131287</td>\n",
       "      <td>-0.066330</td>\n",
       "    </tr>\n",
       "    <tr>\n",
       "      <th>2018-08-31 00:00:00-04:00</th>\n",
       "      <td>105.818609</td>\n",
       "      <td>106.851306</td>\n",
       "      <td>105.657541</td>\n",
       "      <td>106.424965</td>\n",
       "      <td>23222700</td>\n",
       "      <td>0.0</td>\n",
       "      <td>0.0</td>\n",
       "      <td>106.064957</td>\n",
       "      <td>0.360008</td>\n",
       "    </tr>\n",
       "    <tr>\n",
       "      <th>2018-09-04 00:00:00-04:00</th>\n",
       "      <td>105.022779</td>\n",
       "      <td>106.074428</td>\n",
       "      <td>104.425899</td>\n",
       "      <td>105.837570</td>\n",
       "      <td>22634600</td>\n",
       "      <td>0.0</td>\n",
       "      <td>0.0</td>\n",
       "      <td>106.424965</td>\n",
       "      <td>-0.587395</td>\n",
       "    </tr>\n",
       "  </tbody>\n",
       "</table>\n",
       "</div>"
      ],
      "text/plain": [
       "                                 Open        High         Low       Close  \\\n",
       "Date                                                                        \n",
       "2018-08-28 00:00:00-04:00  104.160636  104.691195  104.018520  104.463814   \n",
       "2018-08-29 00:00:00-04:00  104.643819  106.140763  104.473281  106.131287   \n",
       "2018-08-30 00:00:00-04:00  105.799677  106.690265  105.581772  106.064957   \n",
       "2018-08-31 00:00:00-04:00  105.818609  106.851306  105.657541  106.424965   \n",
       "2018-09-04 00:00:00-04:00  105.022779  106.074428  104.425899  105.837570   \n",
       "\n",
       "                             Volume  Dividends  Stock Splits  Prev_close  \\\n",
       "Date                                                                       \n",
       "2018-08-28 00:00:00-04:00  19151500        0.0           0.0         NaN   \n",
       "2018-08-29 00:00:00-04:00  20818000        0.0           0.0  104.463814   \n",
       "2018-08-30 00:00:00-04:00  22798700        0.0           0.0  106.131287   \n",
       "2018-08-31 00:00:00-04:00  23222700        0.0           0.0  106.064957   \n",
       "2018-09-04 00:00:00-04:00  22634600        0.0           0.0  106.424965   \n",
       "\n",
       "                           Close_change  \n",
       "Date                                     \n",
       "2018-08-28 00:00:00-04:00      0.000000  \n",
       "2018-08-29 00:00:00-04:00      1.667473  \n",
       "2018-08-30 00:00:00-04:00     -0.066330  \n",
       "2018-08-31 00:00:00-04:00      0.360008  \n",
       "2018-09-04 00:00:00-04:00     -0.587395  "
      ]
     },
     "execution_count": 104,
     "metadata": {},
     "output_type": "execute_result"
    }
   ],
   "source": [
    "df['Close_change'] = df.progress_apply(\n",
    "        lambda row:0 if np.isnan(row.Prev_close) else row.Close - row.Prev_close, \n",
    "        axis=1\n",
    "    )\n",
    "df.head()"
   ]
  },
  {
   "cell_type": "code",
   "execution_count": 105,
   "metadata": {},
   "outputs": [],
   "source": [
    "rows = []"
   ]
  },
  {
   "cell_type": "code",
   "execution_count": 106,
   "metadata": {},
   "outputs": [
    {
     "data": {
      "application/vnd.jupyter.widget-view+json": {
       "model_id": "ce2127752b8d4fa0b635864f96d01bbe",
       "version_major": 2,
       "version_minor": 0
      },
      "text/plain": [
       "  0%|          | 0/1258 [00:00<?, ?it/s]"
      ]
     },
     "metadata": {},
     "output_type": "display_data"
    }
   ],
   "source": [
    "for _, row in tqdm(df.iterrows(), total=df.shape[0]):\n",
    "    row_data = dict(\n",
    "        day_of_week=row.name.dayofweek,\n",
    "        day_of_month=row.name.week,\n",
    "        week_of_year=row.name.week,\n",
    "        month=row.name.month,\n",
    "        open=row.Open,\n",
    "        high=row.High,\n",
    "        low=row.Low,\n",
    "        close_change=row.Close_change,\n",
    "        close=row.Close\n",
    "    )\n",
    "    \n",
    "    rows.append(row_data)\n",
    "    \n",
    "features_df = pd.DataFrame(rows)"
   ]
  },
  {
   "cell_type": "code",
   "execution_count": 107,
   "metadata": {},
   "outputs": [
    {
     "data": {
      "text/plain": [
       "(1258, 9)"
      ]
     },
     "execution_count": 107,
     "metadata": {},
     "output_type": "execute_result"
    }
   ],
   "source": [
    "features_df.shape"
   ]
  },
   ],
   "source": [
    "checkpoint_callback = ModelCheckpoint(\n",
    "    dirpath='checkpoints',\n",
    "    filename='best-checkpoint',\n",
    "    save_top_k=1,\n",
    "    verbose=True,\n",
    "    monitor='val_loss',\n",
    "    mode='min'\n",
    ")\n",
    "\n",
    "logger = TensorBoardLogger('Lightning_logs', name=f\"{symbol}-price\")\n",
    "\n",
    "early_stopping_callback = EarlyStopping(monitor='val_loss', patience=2)\n",
    "\n",
    "trainer = pl.Trainer(\n",
    "    logger=logger,\n",
    "    checkpoint_callback=checkpoint_callback,\n",
    "    callbacks=[early_stopping_callbacks],\n",
    "    max_epochs=N_EPOCHS,\n",
    "    gpus=1,\n",
    "    progress_bar_refresh_rate=30\n",
    ")"
   ]
  }
 ],
 "metadata": {
  "kernelspec": {
   "display_name": "base",
   "language": "python",
   "name": "python3"
  },
  "language_info": {
   "codemirror_mode": {
    "name": "ipython",
    "version": 3
   },
   "file_extension": ".py",
   "mimetype": "text/x-python",
   "name": "python",
   "nbconvert_exporter": "python",
   "pygments_lexer": "ipython3",
   "version": "3.10.9"
  },
  "orig_nbformat": 4
 },
 "nbformat": 4,
 "nbformat_minor": 2]
}
